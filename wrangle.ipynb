{
 "cells": [
  {
   "cell_type": "markdown",
   "metadata": {},
   "source": [
    "# Data Wrangling"
   ]
  },
  {
   "cell_type": "markdown",
   "metadata": {},
   "source": [
    "## Imports"
   ]
  },
  {
   "cell_type": "code",
   "execution_count": 1,
   "metadata": {},
   "outputs": [],
   "source": [
    "import pyspark\n",
    "import pandas as pd\n",
    "from pyspark.sql.functions import *\n",
    "\n",
    "spark = pyspark.sql.SparkSession.builder.getOrCreate()"
   ]
  },
  {
   "cell_type": "markdown",
   "metadata": {},
   "source": [
    "This exercises uses the <b>case.csv, dept.csv, and source.csv</b> files from the San Antonio 311 call dataset.\n",
    "\n",
    "#### 1. Read the case, department, and source data into their own spark dataframes.\n",
    "\n",
    "#### 2. Let's see how writing to the local disk works in spark:\n",
    "\n",
    "- Write the code necessary to store the source data in both csv and json format, store these as sources_csv and sources_json\n",
    "- Inspect your folder structure. What do you notice?\n",
    "\n",
    "#### 3. Inspect the data in your dataframes. Are the data types appropriate? Write the code necessary to cast the values to the appropriate types.\n"
   ]
  },
  {
   "cell_type": "code",
   "execution_count": 2,
   "metadata": {},
   "outputs": [
    {
     "name": "stdout",
     "output_type": "stream",
     "text": [
      "nrows: 841704\n",
      "stray animal cases: 26760\n"
     ]
    }
   ],
   "source": [
    "df = case = spark.read.csv('case.csv', header=True, inferSchema=True)\n",
    "print('nrows:', df.count())\n",
    "stray_animal_cases = df.filter(df.service_request_type == 'Stray Animal').count()\n",
    "print('stray animal cases:', stray_animal_cases)"
   ]
  },
  {
   "cell_type": "code",
   "execution_count": 3,
   "metadata": {},
   "outputs": [
    {
     "data": {
      "text/plain": [
       "855269"
      ]
     },
     "execution_count": 3,
     "metadata": {},
     "output_type": "execute_result"
    }
   ],
   "source": [
    "# Rename column\n",
    "df = df.withColumnRenamed('SLA_due_date', 'case_due_date')\n",
    "\n",
    "# Convert to better data types\n",
    "df = (\n",
    "    df.withColumn('case_late', col('case_late') == 'YES')\n",
    "    .withColumn('case_closed', col('case_closed') == 'YES')\n",
    ")\n",
    "df = df.withColumn('council_district', format_string('%04d', col('council_district')))\n",
    "df = (\n",
    "    df.withColumn('case_opened_date', to_timestamp(col('case_opened_date'), 'M/d/yy H:mm'))\n",
    "    .withColumn('case_closed_date', to_timestamp(col('case_closed_date'), 'M/d/yy H:mm'))\n",
    "    .withColumn('case_due_date', to_timestamp(col('case_due_date'), 'M/d/yy H:mm'))\n",
    ")\n",
    "\n",
    "# Cleanup text data\n",
    "df = df.withColumn('request_address', lower(trim(col('request_address'))))\n",
    "# Extract zipcode\n",
    "df = df.withColumn('zipcode', regexp_extract(col('request_address'), r'\\d+$', 0))\n",
    "\n",
    "# Create a `case_lifetime` feature\n",
    "df = (\n",
    "    df.withColumn('case_age', datediff(current_timestamp(), 'case_opened_date'))\n",
    "    .withColumn('days_to_closed', datediff('case_closed_date', 'case_opened_date'))\n",
    "    .withColumn('case_lifetime', when(col('case_closed'), col('days_to_closed')).otherwise(col('case_age')))\n",
    "    .drop('case_age', 'days_to_closed')\n",
    ")\n",
    "\n",
    "# Join departments and sources\n",
    "depts = spark.read.csv('dept.csv', header=True, inferSchema=True)\n",
    "sources = spark.read.csv('source.csv', header=True, inferSchema=True)\n",
    "\n",
    "df = df.join(depts, 'dept_division', 'left').join(sources, 'source_id', 'left')\n",
    "\n",
    "# # Train Test Split\n",
    "# train, test = df.randomSplit([.8, .2], seed=123)\n",
    "# train, validate, test = df.randomSplit([.7, .15, .15], seed=123)\n",
    "\n",
    "df.count()"
   ]
  },
  {
   "cell_type": "code",
   "execution_count": 4,
   "metadata": {},
   "outputs": [],
   "source": [
    "df.createOrReplaceTempView('df')"
   ]
  },
  {
   "cell_type": "markdown",
   "metadata": {},
   "source": [
    "## Questions"
   ]
  },
  {
   "cell_type": "markdown",
   "metadata": {},
   "source": [
    "#### 1. How old is the latest (in terms of days past SLA) currently open issue? How long has the oldest (in terms of days since opened) currently opened issue been open?\n",
    "\n"
   ]
  },
  {
   "cell_type": "code",
   "execution_count": 5,
   "metadata": {},
   "outputs": [
    {
     "name": "stdout",
     "output_type": "stream",
     "text": [
      "+-------------+\n",
      "|days_past_due|\n",
      "+-------------+\n",
      "|         1415|\n",
      "|         1415|\n",
      "|         1415|\n",
      "|         1414|\n",
      "|         1412|\n",
      "|         1408|\n",
      "|         1408|\n",
      "|         1407|\n",
      "|         1406|\n",
      "|         1406|\n",
      "|         1402|\n",
      "|         1401|\n",
      "|         1401|\n",
      "|         1401|\n",
      "|         1398|\n",
      "+-------------+\n",
      "\n"
     ]
    }
   ],
   "source": [
    "spark.sql('''\n",
    "SELECT DATEDIFF(current_timestamp, case_due_date) AS days_past_due\n",
    "FROM df\n",
    "WHERE NOT case_closed\n",
    "ORDER BY days_past_due DESC\n",
    "LIMIT 15\n",
    "''').show()"
   ]
  },
  {
   "cell_type": "markdown",
   "metadata": {},
   "source": [
    "#### 2. How many Stray Animal cases are there?"
   ]
  },
  {
   "cell_type": "code",
   "execution_count": 6,
   "metadata": {},
   "outputs": [
    {
     "data": {
      "text/plain": [
       "27361"
      ]
     },
     "execution_count": 6,
     "metadata": {},
     "output_type": "execute_result"
    }
   ],
   "source": [
    "df.filter(df.service_request_type == 'Stray Animal').count()"
   ]
  },
  {
   "cell_type": "code",
   "execution_count": 7,
   "metadata": {},
   "outputs": [
    {
     "name": "stdout",
     "output_type": "stream",
     "text": [
      "+--------------------+-----+\n",
      "|service_request_type|count|\n",
      "+--------------------+-----+\n",
      "|        Stray Animal|27361|\n",
      "+--------------------+-----+\n",
      "\n"
     ]
    }
   ],
   "source": [
    "(\n",
    "    df.groupBy('service_request_type')\n",
    "    .count()\n",
    "    .filter(expr('service_request_type == \"Stray Animal\"'))\n",
    "    .show()\n",
    ")"
   ]
  },
  {
   "cell_type": "markdown",
   "metadata": {},
   "source": [
    "#### 3. How many service requests that are assigned to the Field Operations department (dept_division) are not classified as \"Officer Standby\" request type (service_request_type)?"
   ]
  },
  {
   "cell_type": "code",
   "execution_count": 8,
   "metadata": {},
   "outputs": [
    {
     "data": {
      "text/plain": [
       "116295"
      ]
     },
     "execution_count": 8,
     "metadata": {},
     "output_type": "execute_result"
    }
   ],
   "source": [
    "(\n",
    "    df.filter(df.dept_division == 'Field Operations')\n",
    "    .filter(df.service_request_type != 'Officer Standby')\n",
    "    .count()\n",
    ")"
   ]
  },
  {
   "cell_type": "markdown",
   "metadata": {},
   "source": [
    "#### 4. Convert the council_district column to a string column."
   ]
  },
  {
   "cell_type": "code",
   "execution_count": 9,
   "metadata": {},
   "outputs": [],
   "source": [
    "# Already completed in data prep"
   ]
  },
  {
   "cell_type": "markdown",
   "metadata": {},
   "source": [
    "#### 5. Extract the year from the case_closed_date column."
   ]
  },
  {
   "cell_type": "code",
   "execution_count": 10,
   "metadata": {},
   "outputs": [
    {
     "name": "stdout",
     "output_type": "stream",
     "text": [
      "+-------------------+----------------------+\n",
      "|   case_closed_date|year(case_closed_date)|\n",
      "+-------------------+----------------------+\n",
      "|2018-01-01 12:29:00|                  2018|\n",
      "|2018-01-03 08:11:00|                  2018|\n",
      "|2018-01-02 07:57:00|                  2018|\n",
      "|2018-01-02 08:13:00|                  2018|\n",
      "|2018-01-01 13:29:00|                  2018|\n",
      "+-------------------+----------------------+\n",
      "only showing top 5 rows\n",
      "\n"
     ]
    }
   ],
   "source": [
    "df.select('case_closed_date', year('case_closed_date')).show(5)"
   ]
  },
  {
   "cell_type": "markdown",
   "metadata": {},
   "source": [
    "#### 6. Convert num_days_late from days to hours in new columns num_hours_late."
   ]
  },
  {
   "cell_type": "code",
   "execution_count": 11,
   "metadata": {},
   "outputs": [
    {
     "name": "stdout",
     "output_type": "stream",
     "text": [
      "+-------------------+-------------------+\n",
      "|      num_days_late|     num_hours_late|\n",
      "+-------------------+-------------------+\n",
      "| -998.5087616000001|     -23964.2102784|\n",
      "|-2.0126041669999997|-48.302500007999996|\n",
      "|       -3.022337963|      -72.536111112|\n",
      "|       -15.01148148|      -360.27555552|\n",
      "|0.37216435200000003|  8.931944448000001|\n",
      "|       -29.74398148| -713.8555555199999|\n",
      "|       -14.70673611|      -352.96166664|\n",
      "|       -14.70662037|      -352.95888888|\n",
      "|       -14.70662037|      -352.95888888|\n",
      "|       -14.70649306|      -352.95583344|\n",
      "|       -14.70649306|      -352.95583344|\n",
      "|       -14.70636574|      -352.95277776|\n",
      "|          -14.70625|-352.95000000000005|\n",
      "|       -14.70636574|      -352.95277776|\n",
      "|       -14.70623843|-352.94972232000003|\n",
      "|-14.705891199999998|-352.94138879999997|\n",
      "|       -14.70600694|      -352.94416656|\n",
      "|       -14.70576389|      -352.93833336|\n",
      "|       -14.70576389|      -352.93833336|\n",
      "|       -14.70564815|       -352.9355556|\n",
      "+-------------------+-------------------+\n",
      "only showing top 20 rows\n",
      "\n"
     ]
    }
   ],
   "source": [
    "(\n",
    "    df.withColumn('num_hours_late', df.num_days_late * 24)\n",
    "    .select('num_days_late', 'num_hours_late')\n",
    "    .show()\n",
    ")"
   ]
  },
  {
   "cell_type": "markdown",
   "metadata": {},
   "source": [
    "#### 7. Join the case data with the source and department data."
   ]
  },
  {
   "cell_type": "code",
   "execution_count": 12,
   "metadata": {},
   "outputs": [
    {
     "name": "stdout",
     "output_type": "stream",
     "text": [
      "+---------+--------------------+\n",
      "|source_id|     source_username|\n",
      "+---------+--------------------+\n",
      "|   100137|    Merlene Blodgett|\n",
      "|   103582|         Carmen Cura|\n",
      "|   106463|     Richard Sanchez|\n",
      "|   119403|      Betty De Hoyos|\n",
      "|   119555|      Socorro Quiara|\n",
      "|   119868| Michelle San Miguel|\n",
      "|   120752|      Eva T. Kleiber|\n",
      "|   124405|           Lori Lara|\n",
      "|   132408|       Leonard Silva|\n",
      "|   135723|        Amy Cardenas|\n",
      "|   136202|    Michelle Urrutia|\n",
      "|   136979|      Leticia Garcia|\n",
      "|   137943|    Pamela K. Baccus|\n",
      "|   138605|        Marisa Ozuna|\n",
      "|   138650|      Kimberly Green|\n",
      "|   138650|Kimberly Green-Woods|\n",
      "|   138793| Guadalupe Rodriguez|\n",
      "|   138810|       Tawona Martin|\n",
      "|   139342|     Jessica Mendoza|\n",
      "|   139344|        Isis Mendoza|\n",
      "+---------+--------------------+\n",
      "only showing top 20 rows\n",
      "\n"
     ]
    }
   ],
   "source": [
    "sources.show()"
   ]
  },
  {
   "cell_type": "markdown",
   "metadata": {},
   "source": [
    "#### 8. Are there any cases that do not have a request source?"
   ]
  },
  {
   "cell_type": "code",
   "execution_count": 13,
   "metadata": {},
   "outputs": [
    {
     "name": "stdout",
     "output_type": "stream",
     "text": [
      "+------------+\n",
      "|sum(is_null)|\n",
      "+------------+\n",
      "|           0|\n",
      "+------------+\n",
      "\n"
     ]
    }
   ],
   "source": [
    "(\n",
    "    df.select(df.source_id.isNull().cast('int').alias('is_null'))\n",
    "    .agg(sum('is_null'))\n",
    "    .show()\n",
    ")"
   ]
  },
  {
   "cell_type": "markdown",
   "metadata": {},
   "source": [
    "#### 9. What are the top 10 service request types in terms of number of requests?"
   ]
  },
  {
   "cell_type": "code",
   "execution_count": 14,
   "metadata": {},
   "outputs": [
    {
     "name": "stdout",
     "output_type": "stream",
     "text": [
      "+--------------------------------+-----+\n",
      "|service_request_type            |count|\n",
      "+--------------------------------+-----+\n",
      "|No Pickup                       |89210|\n",
      "|Overgrown Yard/Trash            |66403|\n",
      "|Bandit Signs                    |32968|\n",
      "|Damaged Cart                    |31163|\n",
      "|Front Or Side Yard Parking      |28920|\n",
      "|Stray Animal                    |27361|\n",
      "|Aggressive Animal(Non-Critical) |25492|\n",
      "|Cart Exchange Request           |22608|\n",
      "|Junk Vehicle On Private Property|21649|\n",
      "|Pot Hole Repair                 |20827|\n",
      "+--------------------------------+-----+\n",
      "only showing top 10 rows\n",
      "\n"
     ]
    }
   ],
   "source": [
    "(\n",
    "    df.groupby('service_request_type')\n",
    "    .count()\n",
    "    .sort(col('count').desc())\n",
    "    .show(10, truncate=False)\n",
    ")"
   ]
  },
  {
   "cell_type": "markdown",
   "metadata": {},
   "source": [
    "#### 10. What are the top 10 service request types in terms of average days late?"
   ]
  },
  {
   "cell_type": "code",
   "execution_count": 15,
   "metadata": {},
   "outputs": [
    {
     "name": "stdout",
     "output_type": "stream",
     "text": [
      "+--------------------------------------+------------------+-------+\n",
      "|service_request_type                  |n_days_late       |n_cases|\n",
      "+--------------------------------------+------------------+-------+\n",
      "|Zoning: Recycle Yard                  |210.89201994318182|132    |\n",
      "|Zoning: Junk Yards                    |200.20517608494276|262    |\n",
      "|Structure/Housing Maintenance         |190.20707698509804|51     |\n",
      "|Donation Container Enforcement        |171.09115313942618|122    |\n",
      "|Storage of Used Mattress              |163.96812829714287|7      |\n",
      "|Labeling for Used Mattress            |162.43032902285717|7      |\n",
      "|Record Keeping of Used Mattresses     |153.99724039428568|7      |\n",
      "|Signage Requied for Sale of Used Mattr|151.63868055333333|12     |\n",
      "|Traffic Signal Graffiti               |137.64583330000002|4      |\n",
      "|License Requied Used Mattress Sales   |128.79828704142858|7      |\n",
      "+--------------------------------------+------------------+-------+\n",
      "only showing top 10 rows\n",
      "\n"
     ]
    }
   ],
   "source": [
    "(\n",
    "    df.where('case_late') # just the rows where case_late == true\n",
    "    .groupBy('service_request_type')\n",
    "    .agg(mean('num_days_late').alias('n_days_late'), count('*').alias('n_cases'))\n",
    "    .sort(desc('n_days_late'))\n",
    "    .show(10, truncate=False)\n",
    ")"
   ]
  },
  {
   "cell_type": "markdown",
   "metadata": {},
   "source": [
    "#### 11. Does number of days late depend on department?"
   ]
  },
  {
   "cell_type": "code",
   "execution_count": 16,
   "metadata": {},
   "outputs": [
    {
     "name": "stdout",
     "output_type": "stream",
     "text": [
      "+-------------------------+---------+------------+\n",
      "|dept_name                |days_late|n_cases_late|\n",
      "+-------------------------+---------+------------+\n",
      "|Metro Health             |6.5      |854         |\n",
      "|Solid Waste Management   |7.1      |33729       |\n",
      "|Trans & Cap Improvements |10.7     |5529        |\n",
      "|Parks and Recreation     |22.4     |3810        |\n",
      "|Animal Care Services     |23.4     |23751       |\n",
      "|Code Enforcement Services|48.1     |25467       |\n",
      "|Development Services     |67.2     |840         |\n",
      "|Customer Service         |88.2     |2035        |\n",
      "|null                     |210.9    |132         |\n",
      "+-------------------------+---------+------------+\n",
      "\n"
     ]
    }
   ],
   "source": [
    "(\n",
    "    df.filter('case_late')\n",
    "    .groupby('dept_name')\n",
    "    .agg(mean('num_days_late').alias('days_late'), count('num_days_late').alias('n_cases_late'))\n",
    "    .sort('days_late')\n",
    "    .withColumn('days_late', round(col('days_late'), 1))\n",
    "    .show(truncate=False)\n",
    ")"
   ]
  },
  {
   "cell_type": "markdown",
   "metadata": {},
   "source": [
    "#### 12. How do number of days late depend on department and request type?"
   ]
  },
  {
   "cell_type": "code",
   "execution_count": 17,
   "metadata": {},
   "outputs": [
    {
     "name": "stdout",
     "output_type": "stream",
     "text": [
      "+------------------------+--------------------------------------------+---------+-------+\n",
      "|standardized_dept_name  |service_request_type                        |days_late|n_cases|\n",
      "+------------------------+--------------------------------------------+---------+-------+\n",
      "|City Council            |Request for Research/Information            |null     |5      |\n",
      "|Trans & Cap Improvements|Engineering Design                          |-1413.8  |1      |\n",
      "|Trans & Cap Improvements|Signal Timing Modification By Engineer      |-1352.0  |22     |\n",
      "|Animal Care Services    |Stray Animal                                |-998.8   |27346  |\n",
      "|Parks & Recreation      |Major Park Improvement Install              |-278.3   |271    |\n",
      "|Trans & Cap Improvements|Sidewalk Cost Sharing Program               |-177.8   |131    |\n",
      "|DSD/Code Enforcement    |Multi Tenant Exterior                       |-135.7   |84     |\n",
      "|DSD/Code Enforcement    |CPS Energy Towers                           |-129.8   |511    |\n",
      "|DSD/Code Enforcement    |CPS Energy Wood Poles                       |-129.3   |3501   |\n",
      "|DSD/Code Enforcement    |CPS Energy Metal Poles                      |-129.2   |893    |\n",
      "|DSD/Code Enforcement    |Multi Tenant Interior                       |-125.1   |172    |\n",
      "|DSD/Code Enforcement    |Temporary Obstruction                       |-121.3   |128    |\n",
      "|Trans & Cap Improvements|Manhole Sunken/Raised                       |-120.5   |553    |\n",
      "|DSD/Code Enforcement    |Swim. Pool Inspect: Residential             |-117.5   |821    |\n",
      "|DSD/Code Enforcement    |Zoning: Mobile Homes                        |-116.5   |208    |\n",
      "|DSD/Code Enforcement    |Water No Services                           |-114.8   |686    |\n",
      "|DSD/Code Enforcement    |Zoning Business in Resident Area            |-114.4   |2643   |\n",
      "|DSD/Code Enforcement    |Wasting Water (Leaks)                       |-114.2   |626    |\n",
      "|DSD/Code Enforcement    |Low Hanging Limbs on Streets/Sidewalk       |-113.2   |3908   |\n",
      "|Trans & Cap Improvements|Base/Pavement Repair                        |-112.6   |5215   |\n",
      "|DSD/Code Enforcement    |Zoning: Multi-Family In Single              |-112.1   |718    |\n",
      "|DSD/Code Enforcement    |Zoning: Outside Storage                     |-109.8   |353    |\n",
      "|DSD/Code Enforcement    |Minimum Housing-Owner Occupied              |-109.2   |8157   |\n",
      "|DSD/Code Enforcement    |Minimum Housing-Tenant Occupied             |-108.8   |7363   |\n",
      "|DSD/Code Enforcement    |Zoning: Illumination                        |-108.1   |137    |\n",
      "|DSD/Code Enforcement    |Certificates of Occupancy                   |-103.4   |1354   |\n",
      "|DSD/Code Enforcement    |Whole Scrap Tires Not Marked                |-102.4   |46     |\n",
      "|DSD/Code Enforcement    |Used/Scrap Tire Facility Registration       |-102.1   |14     |\n",
      "|DSD/Code Enforcement    |Used/Scrap Tire Facility Periodic Inspection|-101.1   |160    |\n",
      "|DSD/Code Enforcement    |Zoning: Setbacks                            |-92.3    |713    |\n",
      "|DSD/Code Enforcement    |Structure/Housing Maintenance               |-89.9    |526    |\n",
      "|DSD/Code Enforcement    |Improper Disposal of Scrap Tires            |-88.7    |3      |\n",
      "|Trans & Cap Improvements|Pedestrian Signal - New Request             |-85.9    |125    |\n",
      "|DSD/Code Enforcement    |Improper Rec Keeping-Used/Scrap Tire Fac    |-82.2    |43     |\n",
      "|Trans & Cap Improvements|Signal Timing Modification                  |-80.5    |4513   |\n",
      "|DSD/Code Enforcement    |Improper Storage of Tires/At Facility       |-80.3    |54     |\n",
      "|DSD/Code Enforcement    |Used/Scrap Tire Facility License Pending    |-80.1    |67     |\n",
      "|DSD/Code Enforcement    |Zoning: District Requirement                |-72.6    |1596   |\n",
      "|DSD/Code Enforcement    |Graffiti: Vacant Lots                       |-71.3    |3      |\n",
      "|Trans & Cap Improvements|Flashing Beacon New Request                 |-69.9    |64     |\n",
      "+------------------------+--------------------------------------------+---------+-------+\n",
      "only showing top 40 rows\n",
      "\n"
     ]
    }
   ],
   "source": [
    "(\n",
    "    df.filter(\"case_closed\")\n",
    "#     .filter(\"case_late\")\n",
    "    .groupby(\"standardized_dept_name\", \"service_request_type\")\n",
    "    .agg(avg(\"num_days_late\").alias(\"days_late\"), count(\"*\").alias(\"n_cases\"))\n",
    "    .withColumn(\"days_late\", round(col(\"days_late\"), 1))\n",
    "    .sort(asc(\"days_late\"))\n",
    "    .show(40, truncate=False)\n",
    ")"
   ]
  }
 ],
 "metadata": {
  "kernelspec": {
   "display_name": "Python 3",
   "language": "python",
   "name": "python3"
  },
  "language_info": {
   "codemirror_mode": {
    "name": "ipython",
    "version": 3
   },
   "file_extension": ".py",
   "mimetype": "text/x-python",
   "name": "python",
   "nbconvert_exporter": "python",
   "pygments_lexer": "ipython3",
   "version": "3.7.6"
  }
 },
 "nbformat": 4,
 "nbformat_minor": 4
}
